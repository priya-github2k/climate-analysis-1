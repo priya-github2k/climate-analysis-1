import pandas as pd
df = pd.read_scv(cities.csv')
df.head()

